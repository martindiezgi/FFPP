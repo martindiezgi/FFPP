{
 "cells": [
  {
   "cell_type": "markdown",
   "metadata": {},
   "source": [
    "Script para rescatar los valores cuota de las AFP, desde el sitio de la superintendencia, todo con la gran ayuda de ChatGPT."
   ]
  },
  {
   "cell_type": "code",
   "execution_count": 28,
   "metadata": {},
   "outputs": [],
   "source": [
    "from selenium import webdriver\n",
    "from selenium.webdriver.support.ui import Select\n",
    "from selenium.webdriver.common.by import By\n",
    "\n",
    "# Opciones para configurar Chrome\n",
    "options = webdriver.ChromeOptions()\n",
    "download_dir = r\"C:\\Users\\Martin\\Desktop\\Python\\FFPP\\Data\"  # Cambiar por el directorio deseado\n",
    "prefs = {\n",
    "    \"download.default_directory\": download_dir,  # Establecer el directorio\n",
    "    \"download.prompt_for_download\": False,       # No pedir confirmación al descargar\n",
    "    \"download.directory_upgrade\": True,          # Permitir cambiar el directorio\n",
    "    \"safebrowsing.enabled\": True                 # Desactivar advertencias de seguridad\n",
    "}\n",
    "options.add_experimental_option(\"prefs\", prefs)\n",
    "options.add_argument(\"--start-maximized\") \n",
    "\n",
    "driver = webdriver.Chrome(options=options)\n",
    "\n",
    "### IMPORTANTE, año inicio consulta de valores cuota\n",
    "year_start = \"2015\""
   ]
  },
  {
   "cell_type": "code",
   "execution_count": null,
   "metadata": {},
   "outputs": [],
   "source": [
    "#LOOP\n",
    "\n",
    "for i in range(65, 70): \n",
    "\n",
    "    # Abrir la página de SPensiones de los VC\n",
    "    url = f\"https://www.spensiones.cl/apps/valoresCuotaFondo/vcfAFP.php?tf={chr(i)}\"\n",
    "    driver.get(url)\n",
    "\n",
    "    scroll = driver.find_element(\n",
    "        By.XPATH, \"/html/body/div[5]/div/div[2]/div/div[2]/table[2]/tbody/tr[11]/td/table/tbody/tr/td[1]/select\"\n",
    "        )\n",
    "\n",
    "    select = Select(scroll)\n",
    "\n",
    "    select.select_by_value(year_start)\n",
    "\n",
    "    # Interactuamos con el botón de la descarga\n",
    "    try:\n",
    "    # Buscar el botón con el XPath proporcionado\n",
    "        boton_descarga = driver.find_element(\n",
    "        By.XPATH, \"//a[@href='javascript:generaXLS();']\"\n",
    "        )\n",
    "        # Hacer clic en el botón\n",
    "        boton_descarga.click()\n",
    "        print(\"Descarga iniciada.\")\n",
    "    \n",
    "    except Exception as e:\n",
    "        print(\"Error al interactuar con el botón:\", e)\n",
    "\n",
    "        # Esperar que se complete la descarga (ajusta el tiempo si es necesario)\n",
    "    \n",
    "    time.sleep(5)"
   ]
  },
  {
   "cell_type": "code",
   "execution_count": null,
   "metadata": {},
   "outputs": [
    {
     "data": {
      "text/plain": [
       "'A'"
      ]
     },
     "execution_count": 29,
     "metadata": {},
     "output_type": "execute_result"
    }
   ],
   "source": [
    "\n",
    "\n"
   ]
  },
  {
   "cell_type": "code",
   "execution_count": 10,
   "metadata": {},
   "outputs": [],
   "source": [
    "driver.quit()"
   ]
  }
 ],
 "metadata": {
  "kernelspec": {
   "display_name": "Python 3",
   "language": "python",
   "name": "python3"
  },
  "language_info": {
   "codemirror_mode": {
    "name": "ipython",
    "version": 3
   },
   "file_extension": ".py",
   "mimetype": "text/x-python",
   "name": "python",
   "nbconvert_exporter": "python",
   "pygments_lexer": "ipython3",
   "version": "3.13.0"
  }
 },
 "nbformat": 4,
 "nbformat_minor": 2
}
